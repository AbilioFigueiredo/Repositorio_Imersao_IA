{
  "nbformat": 4,
  "nbformat_minor": 0,
  "metadata": {
    "colab": {
      "provenance": [],
      "authorship_tag": "ABX9TyMoOBilAcLU/lWU2JoMimvN",
      "include_colab_link": true
    },
    "kernelspec": {
      "name": "python3",
      "display_name": "Python 3"
    },
    "language_info": {
      "name": "python"
    }
  },
  "cells": [
    {
      "cell_type": "markdown",
      "metadata": {
        "id": "view-in-github",
        "colab_type": "text"
      },
      "source": [
        "<a href=\"https://colab.research.google.com/github/AbilioFigueiredo/Repositorio_Imersao_IA/blob/main/ProjetoImers%C3%A3o.ipynb\" target=\"_parent\"><img src=\"https://colab.research.google.com/assets/colab-badge.svg\" alt=\"Open In Colab\"/></a>"
      ]
    },
    {
      "cell_type": "code",
      "execution_count": 3,
      "metadata": {
        "colab": {
          "base_uri": "https://localhost:8080/"
        },
        "id": "3YiPD9ILLJwo",
        "outputId": "9d29fe24-5f00-4211-a051-9fa316925297"
      },
      "outputs": [
        {
          "output_type": "stream",
          "name": "stdout",
          "text": [
            "Qual é o seu nome? Abilio\n",
            "Quantos anos você tem? 52\n",
            "Em qual pais você vive? Brasil\n",
            "Em qual cidade você vive?? Rio de Janeiro\n",
            "Quantas refeições você faz por dia?2\n",
            "Quantos lanches você faz por dia?2\n",
            "Quantas calorias você quer consumir por dia?1400\n",
            "Sou um vegetariano de 52 anos que mora no Brasil na cidade Rio de Janeiro que quer consumir 1400 calorias por dia e faço 2 refeições e 2 lanches por dia. Me informe de forma simples como dividir estas calorias por dia.\n"
          ]
        }
      ],
      "source": [
        "nome = input(\"Qual é o seu nome? \")\n",
        "idade = int(input(\"Quantos anos você tem? \"))\n",
        "pais=  input(\"Em qual pais você vive? \")\n",
        "cidade=  input(\"Em qual cidade você vive?? \")\n",
        "refeicoes= int(input(\"Quantas refeições você faz por dia?\"))\n",
        "lanches= int(input(\"Quantos lanches você faz por dia?\"))\n",
        "calorias= int(input(\"Quantas calorias você quer consumir por dia?\"))\n",
        "texto_inicial= f\"Sou um vegetariano de {idade} anos que mora no {pais} na cidade {cidade} que quer consumir {calorias} calorias por dia e faço {refeicoes} refeições e {lanches} lanches por dia. Me informe de forma simples como dividir estas calorias por refeiões e lanches diários.\"\n",
        "print(\"Vamos propor para você de forma simples uma divisão de calorias por refeiões e lanches diários levando em consideração seu local, idade e calorias necessárias\")\n",
        "print(texto_inicial)\n"
      ]
    }
  ]
}