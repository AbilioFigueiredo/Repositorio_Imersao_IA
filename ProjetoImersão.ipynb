{
  "nbformat": 4,
  "nbformat_minor": 0,
  "metadata": {
    "colab": {
      "provenance": [],
      "authorship_tag": "ABX9TyPD7hbTY7paKZd+Xa8FxU0/",
      "include_colab_link": true
    },
    "kernelspec": {
      "name": "python3",
      "display_name": "Python 3"
    },
    "language_info": {
      "name": "python"
    }
  },
  "cells": [
    {
      "cell_type": "markdown",
      "metadata": {
        "id": "view-in-github",
        "colab_type": "text"
      },
      "source": [
        "<a href=\"https://colab.research.google.com/github/AbilioFigueiredo/Repositorio_Imersao_IA/blob/main/ProjetoImers%C3%A3o.ipynb\" target=\"_parent\"><img src=\"https://colab.research.google.com/assets/colab-badge.svg\" alt=\"Open In Colab\"/></a>"
      ]
    },
    {
      "cell_type": "code",
      "execution_count": null,
      "metadata": {
        "id": "3YiPD9ILLJwo"
      },
      "outputs": [],
      "source": [
        "nome = input(\"Qual é o seu nome? \")\n",
        "idade = int(input(\"Quantos anos você tem? \"))\n",
        "pais=  input(\"Em qual pais você vive?? \")\n",
        "cidade=  input(\"Em qual pais você vive?? \")\n",
        "refeicoes= int(input(\"Quantas refeições você faz por dia?\"))\n",
        "lanches= int(input(\"Quantos lanches você faz por dia?\"))\n",
        "calorias= int(input(\"Quantas calorias você quer consumir por dia?\"))\n"
      ]
    }
  ]
}